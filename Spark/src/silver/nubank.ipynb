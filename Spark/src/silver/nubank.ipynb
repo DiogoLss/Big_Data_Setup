{
 "cells": [
  {
   "cell_type": "code",
   "execution_count": 1,
   "metadata": {},
   "outputs": [],
   "source": [
    "import sys\n",
    "from pyspark.sql import SparkSession"
   ]
  },
  {
   "cell_type": "code",
   "execution_count": 2,
   "metadata": {},
   "outputs": [],
   "source": [
    "spark = SparkSession.builder \\\n",
    "    .appName(\"Spark Session\") \\\n",
    "    .enableHiveSupport() \\\n",
    "    .getOrCreate()"
   ]
  },
  {
   "cell_type": "code",
   "execution_count": null,
   "metadata": {},
   "outputs": [
    {
     "data": {
      "text/plain": [
       "DataFrame[]"
      ]
     },
     "execution_count": 46,
     "metadata": {},
     "output_type": "execute_result"
    }
   ],
   "source": [
    "spark.sql(f\"CREATE DATABASE IF NOT EXISTS silver\")"
   ]
  },
  {
   "cell_type": "code",
   "execution_count": 47,
   "metadata": {},
   "outputs": [],
   "source": [
    "df = spark.sql(\"\"\"\n",
    "SELECT \n",
    "DISTINCT\n",
    "Identificador, \n",
    "cast(to_date(from_unixtime(unix_timestamp(Data, 'dd/MM/yyyy'))) as date) AS Data,\n",
    "cast(to_date(from_unixtime(unix_timestamp(Data, 'dd/MM/yyyy'))) as date) AS Data_Pgto,\n",
    "Descricao,\n",
    "CASE WHEN Valor < 0 THEN 'PAGO' ELSE 'RECEBIDO' END AS Tipo,\n",
    "Valor\n",
    "FROM bronze.nubank_extrato\n",
    "\"\"\")"
   ]
  },
  {
   "cell_type": "code",
   "execution_count": 48,
   "metadata": {},
   "outputs": [],
   "source": [
    "df.coalesce(1).write.mode(\"overwrite\").format(\"parquet\").saveAsTable(f\"silver.nubank_extrato\")"
   ]
  },
  {
   "cell_type": "code",
   "execution_count": 49,
   "metadata": {},
   "outputs": [],
   "source": [
    "df = spark.sql(\"\"\"\n",
    "SELECT\n",
    "DISTINCT\n",
    "date AS Data,\n",
    "CAST(SUBSTRING(arquivo_origem,8,10) AS date) AS Data_Pgto,\n",
    "title AS Descricao,\n",
    "'PAGO' AS Tipo,\n",
    "(amount * -1) AS Valor\n",
    "FROM bronze.nubank_fatura\n",
    "\"\"\")"
   ]
  },
  {
   "cell_type": "code",
   "execution_count": 50,
   "metadata": {},
   "outputs": [],
   "source": [
    "df.coalesce(1).write.mode(\"overwrite\").format(\"parquet\").saveAsTable(f\"silver.nubank_fatura\")"
   ]
  }
 ],
 "metadata": {
  "kernelspec": {
   "display_name": "Python 3 (ipykernel)",
   "language": "python",
   "name": "python3"
  }
 },
 "nbformat": 4,
 "nbformat_minor": 2
}
