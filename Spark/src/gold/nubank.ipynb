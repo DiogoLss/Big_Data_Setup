{
 "cells": [
  {
   "cell_type": "code",
   "execution_count": 104,
   "metadata": {},
   "outputs": [],
   "source": [
    "# import sys\n",
    "from pyspark.sql import SparkSession"
   ]
  },
  {
   "cell_type": "code",
   "execution_count": 105,
   "metadata": {},
   "outputs": [],
   "source": [
    "spark = SparkSession.builder \\\n",
    "    .appName(\"Spark Session\") \\\n",
    "    .enableHiveSupport() \\\n",
    "    .getOrCreate()"
   ]
  },
  {
   "cell_type": "code",
   "execution_count": 106,
   "metadata": {},
   "outputs": [],
   "source": [
    "df = spark.sql(\"REFRESH TABLE silver.nubank_extrato\")\n",
    "df = spark.sql(\"REFRESH TABLE silver.nubank_fatura\")"
   ]
  },
  {
   "cell_type": "code",
   "execution_count": 107,
   "metadata": {},
   "outputs": [],
   "source": [
    "df = spark.sql(\"\"\"\n",
    "SELECT\n",
    "Data,\n",
    "Data_Pgto,\n",
    "DebitoCredito,\n",
    "Entidade,\n",
    "Tipo,\n",
    "Valor\n",
    "FROM silver.nubank_extrato        \n",
    "WHERE Identificador NOT IN\n",
    "(\n",
    "    SELECT e.Identificador FROM silver.nubank_extrato e\n",
    "    INNER JOIN \n",
    "          (\n",
    "          SELECT DISTINCT Data_Pgto FROM silver.nubank_fatura \n",
    "          WHERE Descricao != 'Pagamento recebido'\n",
    "          ) f ON SUBSTRING(f.Data_Pgto,0,7) = SUBSTRING(e.Data,0,7)\n",
    "    WHERE e.Descricao = 'Pagamento de fatura'\n",
    ")\n",
    "UNION ALL\n",
    "SELECT \n",
    "Data,\n",
    "Data_Pgto,\n",
    "DebitoCredito,\n",
    "Entidade,\n",
    "Tipo,\n",
    "Valor\n",
    "FROM silver.nubank_fatura\n",
    "Where Descricao != 'Pagamento recebido'\n",
    "\"\"\")\n"
   ]
  },
  {
   "cell_type": "code",
   "execution_count": 108,
   "metadata": {},
   "outputs": [],
   "source": [
    "df.coalesce(1).write.mode(\"overwrite\").format(\"parquet\").saveAsTable(f\"gold.nubank_movimentacao\")"
   ]
  },
  {
   "cell_type": "code",
   "execution_count": 109,
   "metadata": {},
   "outputs": [
    {
     "name": "stdout",
     "output_type": "stream",
     "text": [
      "+-----------------+\n",
      "|       sum(valor)|\n",
      "+-----------------+\n",
      "|7019.269999999879|\n",
      "+-----------------+\n",
      "\n"
     ]
    }
   ],
   "source": [
    "spark.sql(\"select sum(valor) from gold.nubank_movimentacao\").show()"
   ]
  }
 ],
 "metadata": {
  "kernelspec": {
   "display_name": "Python 3 (ipykernel)",
   "language": "python",
   "name": "python3"
  }
 },
 "nbformat": 4,
 "nbformat_minor": 2
}
