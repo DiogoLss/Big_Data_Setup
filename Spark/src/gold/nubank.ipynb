{
 "cells": [
  {
   "cell_type": "code",
   "execution_count": 1,
   "metadata": {},
   "outputs": [],
   "source": [
    "import sys\n",
    "from pyspark.sql import SparkSession"
   ]
  },
  {
   "cell_type": "code",
   "execution_count": 2,
   "metadata": {},
   "outputs": [],
   "source": [
    "spark = SparkSession.builder \\\n",
    "    .appName(\"Spark Session\") \\\n",
    "    .enableHiveSupport() \\\n",
    "    .getOrCreate()"
   ]
  },
  {
   "cell_type": "code",
   "execution_count": 3,
   "metadata": {},
   "outputs": [
    {
     "data": {
      "text/plain": [
       "DataFrame[]"
      ]
     },
     "execution_count": 3,
     "metadata": {},
     "output_type": "execute_result"
    }
   ],
   "source": [
    "spark.sql(f\"CREATE DATABASE IF NOT EXISTS gold\")"
   ]
  },
  {
   "cell_type": "code",
   "execution_count": 37,
   "metadata": {},
   "outputs": [],
   "source": [
    "df = spark.sql(\"\"\"\n",
    "SELECT\n",
    "Data,\n",
    "Data_Pgto,\n",
    "Descricao,\n",
    "Tipo,\n",
    "'Extrato' AS Fonte,\n",
    "Valor\n",
    "FROM silver.nubank_extrato        \n",
    "WHERE Identificador NOT IN\n",
    "(\n",
    "    SELECT Identificador FROM silver.nubank_extrato\n",
    "    WHERE Descricao = 'Pagamento de fatura' AND Data >= '2024-01-01'\n",
    ")\n",
    "UNION ALL\n",
    "SELECT \n",
    "Data,\n",
    "Data_Pgto,\n",
    "Descricao,\n",
    "Tipo,\n",
    "'Fatura' AS Fonte,\n",
    "Valor\n",
    "FROM silver.nubank_fatura\n",
    "Where Descricao != 'Pagamento recebido'\n",
    "\"\"\")\n",
    "df.createOrReplaceTempView('movimentacao')\n"
   ]
  },
  {
   "cell_type": "code",
   "execution_count": 38,
   "metadata": {},
   "outputs": [],
   "source": [
    "df.coalesce(1).write.mode(\"overwrite\").format(\"parquet\").saveAsTable(f\"gold.nubank_movimentacao\")"
   ]
  },
  {
   "cell_type": "code",
   "execution_count": 39,
   "metadata": {},
   "outputs": [
    {
     "name": "stdout",
     "output_type": "stream",
     "text": [
      "+-----------------+\n",
      "|       sum(valor)|\n",
      "+-----------------+\n",
      "|1930.389999999912|\n",
      "+-----------------+\n",
      "\n"
     ]
    }
   ],
   "source": [
    "spark.sql(\"\"\"\n",
    "SELECT\n",
    "sum(valor)\n",
    "FROM movimentacao\n",
    "\"\"\").show()"
   ]
  }
 ],
 "metadata": {
  "kernelspec": {
   "display_name": "Python 3 (ipykernel)",
   "language": "python",
   "name": "python3"
  },
  "language_info": {
   "codemirror_mode": {
    "name": "ipython",
    "version": 3
   },
   "file_extension": ".py",
   "mimetype": "text/x-python",
   "name": "python",
   "nbconvert_exporter": "python",
   "pygments_lexer": "ipython3",
   "version": "3.11.6"
  }
 },
 "nbformat": 4,
 "nbformat_minor": 2
}
