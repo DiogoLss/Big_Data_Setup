{
 "cells": [
  {
   "cell_type": "code",
   "execution_count": 1,
   "id": "bdd889de-461f-4047-87fd-dc43099d3f6d",
   "metadata": {},
   "outputs": [],
   "source": [
    "from pyspark.sql import SparkSession\n",
    "from pyspark.sql.functions import to_date"
   ]
  },
  {
   "cell_type": "code",
   "execution_count": 2,
   "id": "391052b9",
   "metadata": {},
   "outputs": [],
   "source": [
    "spark = SparkSession.builder \\\n",
    "    .appName(\"Spark Session\") \\\n",
    "    .getOrCreate()"
   ]
  },
  {
   "cell_type": "code",
   "execution_count": null,
   "id": "44f9f21d",
   "metadata": {},
   "outputs": [],
   "source": [
    "def ingest(spark, projeto, table, format, schema=None):\n",
    "    raw = f\"s3a://raw/{projeto}/{table}/*\"\n",
    "    bronze = f\"s3a://data/bronze/{projeto}/{table}\"\n",
    "\n",
    "    df = spark.read.format(format).option('header','true').schema(schema).load(raw)\n",
    "    df.write.mode('overwrite').save(bronze)"
   ]
  },
  {
   "cell_type": "code",
   "execution_count": 7,
   "id": "1c099a74",
   "metadata": {},
   "outputs": [],
   "source": [
    "arqschema = \"Data STRING, Valor DOUBLE, Identificador STRING, Descricao STRING\"\n",
    "# arqschema = \"date DATE, title STRING, amount DOUBLE\"\n",
    "ingest(spark,'nubank','extrato','csv',arqschema)"
   ]
  }
 ],
 "metadata": {
  "kernelspec": {
   "display_name": "Python 3 (ipykernel)",
   "language": "python",
   "name": "python3"
  },
  "language_info": {
   "codemirror_mode": {
    "name": "ipython",
    "version": 3
   },
   "file_extension": ".py",
   "mimetype": "text/x-python",
   "name": "python",
   "nbconvert_exporter": "python",
   "pygments_lexer": "ipython3",
   "version": "3.11.6"
  }
 },
 "nbformat": 4,
 "nbformat_minor": 5
}
