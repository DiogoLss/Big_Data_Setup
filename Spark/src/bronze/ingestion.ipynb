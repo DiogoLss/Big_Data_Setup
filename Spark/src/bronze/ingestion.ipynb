{
 "cells": [
  {
   "cell_type": "code",
   "execution_count": null,
   "metadata": {},
   "outputs": [],
   "source": [
    "from pyspark.sql import SparkSession\n",
    "from delta import *\n",
    "from pyspark.sql.types import *\n",
    "from pyspark.sql.functions import col"
   ]
  },
  {
   "cell_type": "code",
   "execution_count": 2,
   "metadata": {},
   "outputs": [],
   "source": [
    "builder = (SparkSession.builder\n",
    "            .appName(\"test\")\n",
    "            .enableHiveSupport()\n",
    "            .config(\"spark.sql.extensions\", \"io.delta.sql.DeltaSparkSessionExtension\")\n",
    "            .config(\"spark.sql.catalog.spark_catalog\", \"org.apache.spark.sql.delta.catalog.DeltaCatalog\")\n",
    "            )\n",
    "\n",
    "spark = configure_spark_with_delta_pip(builder).getOrCreate()"
   ]
  },
  {
   "cell_type": "code",
   "execution_count": null,
   "metadata": {},
   "outputs": [],
   "source": [
    "catalog = 'bronze'\n",
    "database = 'postgres'\n",
    "table = 'financeiro.clientes'\n",
    "file_format = 'parquet'\n",
    "id_field = 'cliente_id'\n",
    "timestamp_field = 'modificado_em'\n",
    "schema = StructType([\n",
    "    StructField(\"cliente_id\", LongType(), True),\n",
    "    StructField(\"nome\", StringType(), True),\n",
    "    StructField(\"cidade\", StringType(), True),\n",
    "    StructField(\"modificado_em\", TimestampType(), True)\n",
    "])\n",
    "\n",
    "table_aux = table.replace(\".\", \"_\")\n",
    "table_formatted = f\"{database}_{table_aux}\"\n",
    "table_name = f\"{catalog}.{table_formatted}\""
   ]
  },
  {
   "cell_type": "code",
   "execution_count": 77,
   "metadata": {},
   "outputs": [],
   "source": [
    "catalog = 'bronze'\n",
    "database = 'postgres'\n",
    "table = 'financeiro.movimentos_financeiros'\n",
    "file_format = 'parquet'\n",
    "id_field = 'id'\n",
    "timestamp_field = 'modificado_em'\n",
    "schema = StructType([\n",
    "    StructField(\"id\", LongType(), True),\n",
    "    StructField(\"data_movimento\", DateType(), True),\n",
    "    StructField(\"valor\", DoubleType(), True),\n",
    "    StructField(\"cliente_id\", LongType(), True),\n",
    "    StructField(\"modificado_em\", TimestampType(), True)\n",
    "])\n",
    "\n",
    "table_aux = table.replace(\".\", \"_\")\n",
    "table_formatted = f\"{database}_{table_aux}\"\n",
    "table_name = f\"{catalog}.{table_formatted}\""
   ]
  },
  {
   "cell_type": "code",
   "execution_count": 14,
   "metadata": {},
   "outputs": [],
   "source": [
    "def convert_data_types(df,schema):\n",
    "    schema_dict = {field.name: field.dataType for field in schema.fields}\n",
    "    for column_name, data_type in schema_dict.items():\n",
    "        if column_name in df.columns:\n",
    "            df = df.withColumn(column_name, col(column_name).cast(data_type))\n",
    "    return df"
   ]
  },
  {
   "cell_type": "code",
   "execution_count": 72,
   "metadata": {},
   "outputs": [],
   "source": [
    "def table_exists(catalog,table):\n",
    "    df = spark.sql(f\"show tables from {catalog}\")\n",
    "    df = df.filter(df.tableName == table)\n",
    "    df = df.count()\n",
    "    return df > 0"
   ]
  },
  {
   "cell_type": "code",
   "execution_count": 69,
   "metadata": {},
   "outputs": [],
   "source": [
    "def ingest_full_load():\n",
    "    print(f\"ingesting {table_formatted} in full load\")\n",
    "    raw = f's3a://raw/{database}/full_load/{table}/'\n",
    "    df = (spark.read\n",
    "        .format(file_format)\n",
    "        .load(raw)\n",
    "        )\n",
    "    df = convert_data_types(df,schema)\n",
    "    \n",
    "    (df.write\n",
    "    .mode(\"overwrite\")\n",
    "    .format(\"delta\")\n",
    "    .saveAsTable(table_name))"
   ]
  },
  {
   "cell_type": "code",
   "execution_count": 70,
   "metadata": {},
   "outputs": [],
   "source": [
    "def ingest_cdc():\n",
    "  print(f\"ingesting {table_formatted} in cdc\")\n",
    "  raw = f's3a://raw/{database}/cdc/{table}/'\n",
    "  df_cdc = (spark.read\n",
    "                .format(file_format)\n",
    "                .load(raw)\n",
    "        )\n",
    "  df_cdc = convert_data_types(df_cdc,schema)\n",
    "\n",
    "  df_cdc.createOrReplaceGlobalTempView(f\"view_{table_formatted}\")\n",
    "  query = f'''\n",
    "  WITH ranked_data AS (\n",
    "    SELECT *,\n",
    "          ROW_NUMBER() OVER (PARTITION BY {id_field} ORDER BY {timestamp_field} DESC) AS rn\n",
    "    FROM global_temp.view_{table_formatted}\n",
    "  )\n",
    "  SELECT *\n",
    "  FROM ranked_data\n",
    "  WHERE rn = 1;\n",
    "  '''\n",
    "  df_cdc = spark.sql(query)\n",
    "  df_cdc = df_cdc.drop(\"rn\")\n",
    "\n",
    "  deltatable = DeltaTable.forName(spark,table_name)\n",
    "\n",
    "  (deltatable\n",
    "      .alias(\"b\")\n",
    "      .merge(df_cdc.alias(\"d\"), f\"b.{id_field} = d.{id_field}\")\n",
    "      .whenMatchedDelete(condition = \"d.operacao = 'DELETE'\")\n",
    "      .whenMatchedUpdateAll(condition = \"d.operacao = 'UPDATE'\")\n",
    "      .whenNotMatchedInsertAll(condition = \"d.operacao = 'INSERT' OR d.operacao = 'UPDATE'\")\n",
    "      .execute())"
   ]
  },
  {
   "cell_type": "code",
   "execution_count": null,
   "metadata": {},
   "outputs": [
    {
     "name": "stdout",
     "output_type": "stream",
     "text": [
      "ingesting postgres_financeiro_movimentos_financeiros in cdc\n"
     ]
    }
   ],
   "source": [
    "if not table_exists(catalog,table_formatted):\n",
    "    ingest_full_load()\n",
    "else:\n",
    "    ingest_cdc()"
   ]
  },
  {
   "cell_type": "code",
   "execution_count": 79,
   "metadata": {},
   "outputs": [
    {
     "name": "stdout",
     "output_type": "stream",
     "text": [
      "+--------+\n",
      "|count(1)|\n",
      "+--------+\n",
      "|  160000|\n",
      "+--------+\n",
      "\n"
     ]
    }
   ],
   "source": [
    "spark.sql(f\"select count(*) from {table_name}\").show()"
   ]
  }
 ],
 "metadata": {
  "kernelspec": {
   "display_name": "Python 3 (ipykernel)",
   "language": "python",
   "name": "python3"
  },
  "language_info": {
   "codemirror_mode": {
    "name": "ipython",
    "version": 3
   },
   "file_extension": ".py",
   "mimetype": "text/x-python",
   "name": "python",
   "nbconvert_exporter": "python",
   "pygments_lexer": "ipython3",
   "version": "3.11.6"
  }
 },
 "nbformat": 4,
 "nbformat_minor": 2
}
