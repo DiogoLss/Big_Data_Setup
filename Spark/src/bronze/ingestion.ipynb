{
 "cells": [
  {
   "cell_type": "code",
   "execution_count": 1,
   "metadata": {},
   "outputs": [],
   "source": [
    "from libs.spark_session import Spark\n",
    "from libs.utils import *\n",
    "from libs.ingestors import Ingestor,IngestorCDC"
   ]
  },
  {
   "cell_type": "code",
   "execution_count": 2,
   "metadata": {},
   "outputs": [],
   "source": [
    "spark = Spark().spark"
   ]
  },
  {
   "cell_type": "code",
   "execution_count": 3,
   "metadata": {},
   "outputs": [],
   "source": [
    "catalog = 'bronze'\n",
    "database = 'postgres'\n",
    "table = 'financeiro.clientes'\n",
    "data_format = 'parquet'\n",
    "id_field = 'cliente_id'\n",
    "timestamp_field = 'modificado_em'\n",
    "\n",
    "table_aux = table.replace(\".\", \"_\")\n",
    "table_formatted = f\"{database}_{table_aux}\""
   ]
  },
  {
   "cell_type": "code",
   "execution_count": 4,
   "metadata": {},
   "outputs": [
    {
     "name": "stdout",
     "output_type": "stream",
     "text": [
      "ingesting table using cdc postgres_financeiro_clientes\n"
     ]
    }
   ],
   "source": [
    "if not table_exists(spark,catalog,table_formatted):\n",
    "    print(f\"ingesting table {table_formatted}\")\n",
    "    ingestor = Ingestor(\n",
    "    spark,\n",
    "    catalog,\n",
    "    database,\n",
    "    table,\n",
    "    data_format\n",
    "    )\n",
    "    ingestor.execute()\n",
    "else:\n",
    "    print(f\"ingesting table using cdc {table_formatted}\")\n",
    "    ingestor = IngestorCDC(\n",
    "        spark,\n",
    "        catalog,\n",
    "        database,\n",
    "        table,\n",
    "        data_format,\n",
    "        id_field,\n",
    "        timestamp_field\n",
    "    )\n",
    "    ingestor.save()"
   ]
  },
  {
   "cell_type": "code",
   "execution_count": 5,
   "metadata": {},
   "outputs": [
    {
     "name": "stdout",
     "output_type": "stream",
     "text": [
      "+--------+\n",
      "|count(1)|\n",
      "+--------+\n",
      "|   18600|\n",
      "+--------+\n",
      "\n"
     ]
    }
   ],
   "source": [
    "spark.sql(f\"select count(*) from {catalog}.{table_formatted}\").show()"
   ]
  }
 ],
 "metadata": {
  "kernelspec": {
   "display_name": "Python 3 (ipykernel)",
   "language": "python",
   "name": "python3"
  },
  "language_info": {
   "codemirror_mode": {
    "name": "ipython",
    "version": 3
   },
   "file_extension": ".py",
   "mimetype": "text/x-python",
   "name": "python",
   "nbconvert_exporter": "python",
   "pygments_lexer": "ipython3",
   "version": "3.11.6"
  }
 },
 "nbformat": 4,
 "nbformat_minor": 2
}
