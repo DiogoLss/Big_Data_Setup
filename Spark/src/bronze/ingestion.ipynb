{
 "cells": [
  {
   "cell_type": "code",
   "execution_count": 2,
   "metadata": {},
   "outputs": [],
   "source": [
    "import sys\n",
    "from pyspark.sql import SparkSession\n",
    "from delta import *"
   ]
  },
  {
   "cell_type": "code",
   "execution_count": null,
   "metadata": {},
   "outputs": [],
   "source": [
    "spark = SparkSession.builder \\\n",
    "    .appName(\"Spark Session\") \\\n",
    "    .config(\"spark.sql.extensions\", \"io.delta.sql.DeltaSparkSessionExtension\") \\\n",
    "    .config(\"spark.sql.catalog.spark_catalog\", \"org.apache.spark.sql.delta.catalog.DeltaCatalog\") \\\n",
    "    .enableHiveSupport() \\\n",
    "    .getOrCreate()"
   ]
  },
  {
   "cell_type": "code",
   "execution_count": null,
   "metadata": {},
   "outputs": [],
   "source": []
  },
  {
   "cell_type": "code",
   "execution_count": null,
   "metadata": {},
   "outputs": [],
   "source": [
    "def ingest(spark:SparkSession, projeto, table, format, header,schema,partition):\n",
    "    \"\"\"\n",
    "    projeto == database\n",
    "    \"\"\"\n",
    "    raw_path = f\"s3a://raw/{projeto}/{table}/*\"\n",
    "\n",
    "    spark.sql(f\"CREATE DATABASE IF NOT EXISTS bronze\")\n",
    "\n",
    "    df = spark.read.format(format).option('header', header).schema(schema).load(raw_path).withColumn(\"arquivo_origem\",  regexp_extract(input_file_name(), \"([^/]+)$\", 1))\n",
    "    if partition == 'None':\n",
    "        df.coalesce(1).write.mode(\"overwrite\").format(\"parquet\").saveAsTable(f\"bronze.{projeto}_{table}\")\n",
    "    else:\n",
    "        df.write.partitionBy(partition).mode(\"overwrite\").format(\"parquet\").saveAsTable(f\"bronze.{projeto}_{table}\")\n",
    "\n",
    "ingest(\n",
    "    spark,\n",
    "    sys.argv[1],#projeto\n",
    "    sys.argv[2],#tabela\n",
    "    sys.argv[3],#formato-fonte\n",
    "    sys.argv[4],#schema\n",
    "    sys.argv[5],#header\n",
    "    sys.argv[6]#partition\n",
    ")"
   ]
  }
 ],
 "metadata": {
  "kernelspec": {
   "display_name": "Python 3 (ipykernel)",
   "language": "python",
   "name": "python3"
  }
 },
 "nbformat": 4,
 "nbformat_minor": 2
}
