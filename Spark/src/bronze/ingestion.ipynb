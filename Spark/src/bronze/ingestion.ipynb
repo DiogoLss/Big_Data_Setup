{
 "cells": [
  {
   "cell_type": "code",
   "execution_count": 12,
   "metadata": {},
   "outputs": [],
   "source": [
    "from pyspark.sql import SparkSession\n",
    "from delta import *\n",
    "from pyspark.sql.types import *\n",
    "from pyspark.sql.functions import col"
   ]
  },
  {
   "cell_type": "code",
   "execution_count": 2,
   "metadata": {},
   "outputs": [],
   "source": [
    "builder = (SparkSession.builder\n",
    "            .appName(\"test\")\n",
    "            .enableHiveSupport()\n",
    "            .config(\"spark.sql.extensions\", \"io.delta.sql.DeltaSparkSessionExtension\")\n",
    "            .config(\"spark.sql.catalog.spark_catalog\", \"org.apache.spark.sql.delta.catalog.DeltaCatalog\")\n",
    "            .config(\"spark.sql.legacy.parquet.nanosAsLong\", \"true\")\n",
    "            .config(\"spark.sql.parquet.enableVectorizedReader\",\"false\")\n",
    "            )\n",
    "\n",
    "spark = configure_spark_with_delta_pip(builder).getOrCreate()"
   ]
  },
  {
   "cell_type": "code",
   "execution_count": null,
   "metadata": {},
   "outputs": [],
   "source": [
    "catalog = 'bronze'\n",
    "database = 'postgres'\n",
    "table = 'financeiro.clientes'\n",
    "file_format = 'parquet'\n",
    "id_field = 'cliente_id'\n",
    "timestamp_field = 'modificado_em'\n",
    "# schema = StructType([\n",
    "#     StructField(\"cliente_id\", LongType(), True),\n",
    "#     StructField(\"nome\", StringType(), True),\n",
    "#     StructField(\"cidade\", StringType(), True),\n",
    "#     StructField(\"modificado_em\", StringType(), True)\n",
    "# ])\n",
    "\n",
    "table_formatted = table.replace(\".\", \"_\")\n",
    "table_name = f\"{catalog}.{database}_{table_formatted}\""
   ]
  },
  {
   "cell_type": "code",
   "execution_count": 59,
   "metadata": {},
   "outputs": [],
   "source": [
    "def ingest_full_load():\n",
    "    raw = f's3a://raw/{database}/full_load/{table}/'\n",
    "    df = (spark.read\n",
    "        .format(file_format)\n",
    "        .load(raw)\n",
    "        )\n",
    "    \n",
    "    df = df.withColumn(timestamp_field, col(timestamp_field).cast(\"timestamp\"))\n",
    "    \n",
    "    (df.write\n",
    "    .mode(\"overwrite\")\n",
    "    .format(\"delta\")\n",
    "    .saveAsTable(table_name))"
   ]
  },
  {
   "cell_type": "code",
   "execution_count": 62,
   "metadata": {},
   "outputs": [],
   "source": [
    "ingest_full_load()"
   ]
  },
  {
   "cell_type": "code",
   "execution_count": 70,
   "metadata": {},
   "outputs": [],
   "source": [
    "raw = f's3a://raw/{database}/cdc/{table}/'\n",
    "df_cdc = (spark.read\n",
    "              .format(\"parquet\")\n",
    "              .load(raw)\n",
    "      )\n",
    "df_cdc = df_cdc.withColumn(timestamp_field, col(timestamp_field).cast(\"timestamp\"))\n",
    "\n",
    "df_cdc.createOrReplaceGlobalTempView(f\"view_{table_formatted}\")\n",
    "query = f'''\n",
    "WITH ranked_data AS (\n",
    "  SELECT *,\n",
    "         ROW_NUMBER() OVER (PARTITION BY {id_field} ORDER BY {timestamp_field} DESC) AS rn\n",
    "  FROM global_temp.view_{table_formatted}\n",
    ")\n",
    "SELECT *\n",
    "FROM ranked_data\n",
    "WHERE rn = 1;\n",
    "'''\n",
    "df_cdc = spark.sql(query)\n",
    "df_cdc = df_cdc.drop(\"rn\")\n"
   ]
  },
  {
   "cell_type": "code",
   "execution_count": 71,
   "metadata": {},
   "outputs": [],
   "source": [
    "deltatable = DeltaTable.forName(spark,table_name)"
   ]
  },
  {
   "cell_type": "code",
   "execution_count": 72,
   "metadata": {},
   "outputs": [],
   "source": [
    "(deltatable\n",
    "    .alias(\"b\")\n",
    "    .merge(df_cdc.alias(\"d\"), f\"b.{id_field} = d.{id_field}\")\n",
    "    .whenMatchedDelete(condition = \"d.operacao = 'DELETE'\")\n",
    "    .whenMatchedUpdateAll(condition = \"d.operacao = 'UPDATE'\")\n",
    "    .whenNotMatchedInsertAll(condition = \"d.operacao = 'INSERT' OR d.operacao = 'UPDATE'\")\n",
    "    .execute()\n",
    " )"
   ]
  },
  {
   "cell_type": "code",
   "execution_count": 73,
   "metadata": {},
   "outputs": [
    {
     "name": "stdout",
     "output_type": "stream",
     "text": [
      "+--------+\n",
      "|count(1)|\n",
      "+--------+\n",
      "|   14100|\n",
      "+--------+\n",
      "\n"
     ]
    }
   ],
   "source": [
    "spark.sql(f\"select count(*) from {table_name}\").show()"
   ]
  }
 ],
 "metadata": {
  "kernelspec": {
   "display_name": "Python 3 (ipykernel)",
   "language": "python",
   "name": "python3"
  },
  "language_info": {
   "codemirror_mode": {
    "name": "ipython",
    "version": 3
   },
   "file_extension": ".py",
   "mimetype": "text/x-python",
   "name": "python",
   "nbconvert_exporter": "python",
   "pygments_lexer": "ipython3",
   "version": "3.11.6"
  }
 },
 "nbformat": 4,
 "nbformat_minor": 2
}
